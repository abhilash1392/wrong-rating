{
 "metadata": {
  "language_info": {
   "codemirror_mode": {
    "name": "ipython",
    "version": 3
   },
   "file_extension": ".py",
   "mimetype": "text/x-python",
   "name": "python",
   "nbconvert_exporter": "python",
   "pygments_lexer": "ipython3",
   "version": "3.7.6-final"
  },
  "orig_nbformat": 2,
  "kernelspec": {
   "name": "python3",
   "display_name": "Python 3.7.6 64-bit",
   "metadata": {
    "interpreter": {
     "hash": "2c424111344ada7f9bd2b2eff03ee5c13ec854e09fa2742d5c615273b4cc491a"
    }
   }
  }
 },
 "nbformat": 4,
 "nbformat_minor": 2,
 "cells": [
  {
   "cell_type": "code",
   "execution_count": 24,
   "metadata": {},
   "outputs": [],
   "source": [
    "text = '{\"orders\":[{\"id\":1},{\"id\":2},{\"id\":3},{\"id\":4},{\"id\":5},{\"id\":6},{\"id\":7},{\"id\":8},{\"id\":9},{\"id\":10},{\"id\":11},{\"id\":648},{\"id\":649},{\"id\":650},{\"id\":651},{\"id\":652},{\"id\":653}],\"errors\":[{\"code\":3,\"message\":\"[PHP Warning #2] count(): Parameter must be an array or an object that implements Countable (153)\"}]}'\n"
   ]
  },
  {
   "cell_type": "code",
   "execution_count": 2,
   "metadata": {},
   "outputs": [],
   "source": [
    "import pandas as pd \n",
    "import numpy as np \n",
    "import regex \n",
    "import re "
   ]
  },
  {
   "cell_type": "code",
   "execution_count": 19,
   "metadata": {},
   "outputs": [],
   "source": []
  },
  {
   "cell_type": "code",
   "execution_count": 21,
   "metadata": {},
   "outputs": [
    {
     "output_type": "execute_result",
     "data": {
      "text/plain": [
       "'[\\'{\"orders\":[{\"id\":1}\\', \\'{\"id\":2}\\', \\'{\"id\":3}\\', \\'{\"id\":4}\\', \\'{\"id\":5}\\', \\'{\"id\":6}\\', \\'{\"id\":7}\\', \\'{\"id\":8}\\', \\'{\"id\":9}\\', \\'{\"id\":10}\\', \\'{\"id\":11}\\', \\'{\"id\":648}\\', \\'{\"id\":649}\\', \\'{\"id\":650}\\', \\'{\"id\":651}\\', \\'{\"id\":652}\\', \\'{\"id\":653}]\\', \\'\"errors\":[{\"code\":3\\', \\'\"message\":\"[PHP Warning #2] count(): Parameter must be an array or an object that implements Countable (153)\"}]}\\']'"
      ]
     },
     "metadata": {},
     "execution_count": 21
    }
   ],
   "source": [
    "text"
   ]
  },
  {
   "cell_type": "code",
   "execution_count": null,
   "metadata": {},
   "outputs": [],
   "source": []
  },
  {
   "cell_type": "code",
   "execution_count": 26,
   "metadata": {},
   "outputs": [
    {
     "output_type": "execute_result",
     "data": {
      "text/plain": [
       "'{\"orders\":[{\"id\":1},{\"id\":2},{\"id\":3},{\"id\":4},{\"id\":5},{\"id\":6},{\"id\":7},{\"id\":8},{\"id\":9},{\"id\":10},{\"id\":11},{\"id\":648},{\"id\":649},{\"id\":650},{\"id\":651},{\"id\":652},{\"id\":653}],\"errors\":[{\"code\":3,\"message\":\"[PHP Warning #2] count(): Parameter must be an array or an object that implements Countable (153)\"}]}'"
      ]
     },
     "metadata": {},
     "execution_count": 26
    }
   ],
   "source": [
    "text"
   ]
  },
  {
   "cell_type": "code",
   "execution_count": 63,
   "metadata": {},
   "outputs": [],
   "source": [
    "match1 = re.findall('\"id\":\\d+',text)\n",
    "match2 = re.findall('\"code\":\\d+',text)\n",
    "for i in match2:\n",
    "    match1.append(i)"
   ]
  },
  {
   "cell_type": "code",
   "execution_count": 64,
   "metadata": {},
   "outputs": [
    {
     "output_type": "execute_result",
     "data": {
      "text/plain": [
       "['\"id\":1',\n",
       " '\"id\":2',\n",
       " '\"id\":3',\n",
       " '\"id\":4',\n",
       " '\"id\":5',\n",
       " '\"id\":6',\n",
       " '\"id\":7',\n",
       " '\"id\":8',\n",
       " '\"id\":9',\n",
       " '\"id\":10',\n",
       " '\"id\":11',\n",
       " '\"id\":648',\n",
       " '\"id\":649',\n",
       " '\"id\":650',\n",
       " '\"id\":651',\n",
       " '\"id\":652',\n",
       " '\"id\":653',\n",
       " '\"code\":3']"
      ]
     },
     "metadata": {},
     "execution_count": 64
    }
   ],
   "source": [
    "match1"
   ]
  },
  {
   "cell_type": "code",
   "execution_count": 67,
   "metadata": {},
   "outputs": [
    {
     "output_type": "stream",
     "name": "stdout",
     "text": [
      "['1']\n['2']\n['3']\n['4']\n['5']\n['6']\n['7']\n['8']\n['9']\n['10']\n['11']\n['648']\n['649']\n['650']\n['651']\n['652']\n['653']\n['3']\n"
     ]
    }
   ],
   "source": [
    "for i in match1:\n",
    "    print(re.findall('\\d+',i))"
   ]
  },
  {
   "cell_type": "code",
   "execution_count": 99,
   "metadata": {},
   "outputs": [
    {
     "output_type": "execute_result",
     "data": {
      "text/plain": [
       "[1, 2, 3, 4, 5, 6, 7, 8, 9, 10, 11, 648, 649, 650, 651, 652, 653, 3]"
      ]
     },
     "metadata": {},
     "execution_count": 99
    }
   ],
   "source": [
    "match1 = [int(re.findall('\\d+',i)[0]) for i in np.concatenate([re.findall('\"id\":\\d+',text),re.findall('\"code\":\\d+',text)])]\n",
    "match1\n"
   ]
  },
  {
   "cell_type": "code",
   "execution_count": 90,
   "metadata": {},
   "outputs": [
    {
     "output_type": "execute_result",
     "data": {
      "text/plain": [
       "[0, 1, 2, 3, 4, 5, 6, 7, 8, 9, 10, 11, 12, 13, 14, 15, 16, 17, 18, 19]"
      ]
     },
     "metadata": {},
     "execution_count": 90
    }
   ],
   "source": [
    "[i for i in [j for j in np.arange(20)]]"
   ]
  }
 ]
}